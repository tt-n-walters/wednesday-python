{
 "cells": [
  {
   "cell_type": "code",
   "execution_count": 1,
   "metadata": {},
   "outputs": [],
   "source": [
    "import requests\n",
    "import csv\n",
    "import numpy as np"
   ]
  },
  {
   "cell_type": "code",
   "execution_count": 2,
   "metadata": {},
   "outputs": [],
   "source": [
    "url = \"https://raw.githubusercontent.com/cmusam/fortune500/master/csv/fortune500-{year}.csv\"\n",
    "years = range(1955, 2020)\n",
    "urls = [url.format(year=year) for year in years]"
   ]
  },
  {
   "cell_type": "code",
   "execution_count": 3,
   "metadata": {},
   "outputs": [
    {
     "name": "stdout",
     "output_type": "stream",
     "text": [
      "Downloading 1955 data...\n",
      "Downloading 1956 data...\n",
      "Downloading 1957 data...\n",
      "Downloading 1958 data...\n",
      "Downloading 1959 data...\n",
      "Downloading 1960 data...\n",
      "Downloading 1961 data...\n",
      "Downloading 1962 data...\n",
      "Downloading 1963 data...\n",
      "Downloading 1964 data...\n",
      "Downloading 1965 data...\n",
      "Downloading 1966 data...\n",
      "Downloading 1967 data...\n",
      "Downloading 1968 data...\n",
      "Downloading 1969 data...\n",
      "Downloading 1970 data...\n",
      "Downloading 1971 data...\n",
      "Downloading 1972 data...\n",
      "Downloading 1973 data...\n",
      "Downloading 1974 data...\n",
      "Downloading 1975 data...\n",
      "Downloading 1976 data...\n",
      "Downloading 1977 data...\n",
      "Downloading 1978 data...\n",
      "Downloading 1979 data...\n",
      "Downloading 1980 data...\n",
      "Downloading 1981 data...\n",
      "Downloading 1982 data...\n",
      "Downloading 1983 data...\n",
      "Downloading 1984 data...\n",
      "Downloading 1985 data...\n",
      "Downloading 1986 data...\n",
      "Downloading 1987 data...\n",
      "Downloading 1988 data...\n",
      "Downloading 1989 data...\n",
      "Downloading 1990 data...\n",
      "Downloading 1991 data...\n",
      "Downloading 1992 data...\n",
      "Downloading 1993 data...\n",
      "Downloading 1994 data...\n",
      "Downloading 1995 data...\n",
      "Downloading 1996 data...\n",
      "Downloading 1997 data...\n",
      "Downloading 1998 data...\n",
      "Downloading 1999 data...\n",
      "Downloading 2000 data...\n",
      "Downloading 2001 data...\n",
      "Downloading 2002 data...\n",
      "Downloading 2003 data...\n",
      "Downloading 2004 data...\n",
      "Downloading 2005 data...\n",
      "Downloading 2006 data...\n",
      "Downloading 2007 data...\n",
      "Downloading 2008 data...\n",
      "Downloading 2009 data...\n",
      "Downloading 2010 data...\n",
      "Downloading 2011 data...\n",
      "Downloading 2012 data...\n",
      "Downloading 2013 data...\n",
      "Downloading 2014 data...\n",
      "Downloading 2015 data...\n",
      "Downloading 2016 data...\n",
      "Downloading 2017 data...\n",
      "Downloading 2018 data...\n",
      "Downloading 2019 data...\n"
     ]
    }
   ],
   "source": [
    "raw_data = {}\n",
    "for year, url in zip(years, urls):\n",
    "    print(f\"Downloading {year} data...\")\n",
    "    r = requests.get(url)\n",
    "    raw_data[year] = r.text"
   ]
  },
  {
   "cell_type": "code",
   "execution_count": 14,
   "metadata": {},
   "outputs": [],
   "source": [
    "raw_data[2020] = open(\"fortune500_2020.csv\").read()\n",
    "raw_data[2021] = open(\"fortune500_2021.csv\").read()"
   ]
  },
  {
   "cell_type": "code",
   "execution_count": 15,
   "metadata": {},
   "outputs": [],
   "source": [
    "data = {}\n",
    "for year, raw_string in raw_data.items():\n",
    "    year_data = list(csv.reader(raw_string.splitlines()))\n",
    "    year_data.pop(0)\n",
    "\n",
    "    for row in year_data:\n",
    "        if row[3] in (\"N.A.\", \"\"):\n",
    "            row[3] = \"0\"\n",
    "    \n",
    "    data[year] = year_data"
   ]
  },
  {
   "cell_type": "code",
   "execution_count": 16,
   "metadata": {},
   "outputs": [
    {
     "data": {
      "text/plain": [
       "[('0', 376), ('4.0', 77), ('3.0', 72), ('5.7', 67), ('6.0', 67)]"
      ]
     },
     "execution_count": 16,
     "metadata": {},
     "output_type": "execute_result"
    }
   ],
   "source": [
    "from collections import Counter\n",
    "counted = Counter([row[3] for year in data.values() for row in year])\n",
    "counted.most_common(5)"
   ]
  },
  {
   "cell_type": "code",
   "execution_count": 17,
   "metadata": {},
   "outputs": [],
   "source": [
    "names = np.array([row[1] for year in data.values() for row in year]).reshape((-1, 500))\n",
    "revenues = np.array([row[2] for year in data.values() for row in year], dtype=float).reshape((-1, 500))\n",
    "profits = np.array([row[3] for year in data.values() for row in year], dtype=float).reshape((-1, 500))"
   ]
  },
  {
   "cell_type": "code",
   "execution_count": 18,
   "metadata": {},
   "outputs": [],
   "source": [
    "import matplotlib.pyplot as plt\n",
    "plt.style.use(\"ggplot\")"
   ]
  },
  {
   "cell_type": "code",
   "execution_count": 25,
   "metadata": {},
   "outputs": [],
   "source": [
    "average_profits = profits.mean(axis=1)\n",
    "average_revenues = revenues.mean(axis=1)\n",
    "years = range(1955, 2022)"
   ]
  },
  {
   "cell_type": "code",
   "execution_count": 26,
   "metadata": {},
   "outputs": [
    {
     "data": {
      "image/png": "[encoded data removed]",
      "text/plain": [
       "<Figure size 432x288 with 1 Axes>"
      ]
     },
     "metadata": {},
     "output_type": "display_data"
    }
   ],
   "source": [
    "plt.plot(years, average_profits, marker=\".\", label=\"Profit\")\n",
    "plt.ylabel(\"$ (millions)\")\n",
    "plt.xlabel(\"Year\")\n",
    "plt.legend()\n",
    "plt.show()"
   ]
  },
  {
   "cell_type": "code",
   "execution_count": 27,
   "metadata": {},
   "outputs": [
    {
     "data": {
      "image/png": "[encoded data removed]",
      "text/plain": [
       "<Figure size 432x288 with 1 Axes>"
      ]
     },
     "metadata": {},
     "output_type": "display_data"
    }
   ],
   "source": [
    "\n",
    "plt.plot(years, average_revenues, marker=\".\", label=\"Revenues\", c=\"b\")\n",
    "plt.ylabel(\"$ (millions)\")\n",
    "plt.xlabel(\"Year\")\n",
    "plt.legend()\n",
    "plt.show()"
   ]
  }
 ],
 "metadata": {
  "interpreter": {
   "hash": "ac59ebe37160ed0dfa835113d9b8498d9f09ceb179beaac4002f036b9467c963"
  },
  "kernelspec": {
   "display_name": "Python 3.9.7 64-bit",
   "language": "python",
   "name": "python3"
  },
  "language_info": {
   "codemirror_mode": {
    "name": "ipython",
    "version": 3
   },
   "file_extension": ".py",
   "mimetype": "text/x-python",
   "name": "python",
   "nbconvert_exporter": "python",
   "pygments_lexer": "ipython3",
   "version": "3.9.7"
  },
  "orig_nbformat": 4
 },
 "nbformat": 4,
 "nbformat_minor": 2
}
